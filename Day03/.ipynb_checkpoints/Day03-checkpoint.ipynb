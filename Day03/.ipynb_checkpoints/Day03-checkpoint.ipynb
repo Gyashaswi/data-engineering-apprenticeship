{
 "cells": [
  {
   "cell_type": "code",
   "execution_count": 4,
   "id": "b3d404a3-db0b-46d5-8881-3906b1524a62",
   "metadata": {},
   "outputs": [],
   "source": [
    "#random code to generate data\n",
    "\n",
    "import pandas as pd\n",
    "import random\n",
    "\n",
    "names = [\"Yashaswi Gurram\",\"Alice Smith\", \"Bob Johnson\", \"Carlos Martinez\", \"Diana Chen\", \"Ella Brown\", \"Farhan Khan\", \"Gabriela Santos\", \"Hiroto Suzuki\", \"Isabella Rossi\", \"James Lee\", \"Khalid al-Farsi\", \"Linh Nguyen\", \"Maria Garcia\", \"Nisha Patel\", \"Oscar Müller\", \"Pierre Dubois\", \"Qi Wang\", \"Rania El-Amin\", \"Sophie Dubois\", \"Tom Becker\", \"Yusuf Ozturk\"]\n",
    "ages = random.choices(range(18,27), k=20)\n",
    "countries = [\"India\",\"USA\", \"Canada\", \"Mexico\", \"China\", \"India\", \"Brazil\", \"Japan\", \"Italy\", \"Germany\", \"France\", \"Saudi Arabia\", \"Vietnam\", \"Spain\", \"UK\", \"Russia\", \"Turkey\", \"Egypt\", \"South Africa\", \"Australia\", \"UAE\"]\n",
    "majors = [\"Data Science\",\"Computer Science\", \"Engineering\", \"Business\", \"Biology\", \"Psychology\", \"Economics\", \"Art\", \"Mathematics\", \"Physics\", \"Law\"]\n",
    "interested_roles = [\"Data Scientist\",\"Data Scientist\", \"Software Developer\", \"Business Analyst\", \"Researcher\", \"UX Designer\", \"Consultant\", \"Marketing Manager\", \"Financial Analyst\", \"Project Manager\", \"HR Specialist\"]\n",
    "placed_roles = [\"Data Engineer\",\"Software Developer\", \"Business Analyst\", \"Project Manager\", \"Consultant\", \"Marketing Manager\", \"Researcher\", \"Financial Analyst\", \"Data Scientist\", \"UX Designer\", \"HR Specialist\", None]\n",
    "\n",
    "students = []\n",
    "for i in range(20):\n",
    "    name = names[i]\n",
    "    age = ages[i]\n",
    "    country = countries[i]\n",
    "    major = random.choice(majors)\n",
    "    interested_role = random.choice(interested_roles)\n",
    "    placed_role = random.choice(placed_roles)\n",
    "    students.append({\n",
    "        \"name\": name,\n",
    "        \"age\": age,\n",
    "        \"country\": country,\n",
    "        \"major\": major,\n",
    "        \"interested_role\": interested_role,\n",
    "        \"role_placed\": placed_role\n",
    "    })\n",
    "\n",
    "# Save as CSV\n",
    "students_df = pd.DataFrame(students)\n",
    "students_df.to_csv(\"students_sample.csv\", index=False)"
   ]
  },
  {
   "cell_type": "code",
   "execution_count": null,
   "id": "f5ee7124-0bca-44b5-995f-e0a815c2625d",
   "metadata": {},
   "outputs": [],
   "source": []
  },
  {
   "cell_type": "code",
   "execution_count": null,
   "id": "536e3059-61e9-4698-8bb3-e0dbe861d980",
   "metadata": {},
   "outputs": [],
   "source": []
  }
 ],
 "metadata": {
  "kernelspec": {
   "display_name": "Python 3 (ipykernel)",
   "language": "python",
   "name": "python3"
  },
  "language_info": {
   "codemirror_mode": {
    "name": "ipython",
    "version": 3
   },
   "file_extension": ".py",
   "mimetype": "text/x-python",
   "name": "python",
   "nbconvert_exporter": "python",
   "pygments_lexer": "ipython3",
   "version": "3.12.4"
  }
 },
 "nbformat": 4,
 "nbformat_minor": 5
}
